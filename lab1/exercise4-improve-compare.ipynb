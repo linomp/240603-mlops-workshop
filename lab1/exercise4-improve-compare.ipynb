{
 "cells": [
  {
   "cell_type": "markdown",
   "metadata": {
    "id": "x4HI2mpwlrcn"
   },
   "source": [
    "# Lab 1: Experiment Tracking\n",
    "## Exercise 4: Improve model and compare runs\n",
    "\n",
    "Try to improve the model by changing the hyperparameters. Run a few experiments with different parameters. It's a good idea to give each experiment a unique `task_name=`.\n",
    "\n",
    "Then go into ClearML, select two or more experiments and click COMPARE at the bottom of the web UI. Now explore the tabs HYPERPARAMETERS and SCALARS. Can you find your best experiment?"
   ]
  },
  {
   "cell_type": "code",
   "execution_count": 1,
   "metadata": {},
   "outputs": [
    {
     "name": "stdout",
     "output_type": "stream",
     "text": [
      "env: CLEARML_WEB_HOST=https://app.clear.ml\n",
      "env: CLEARML_API_HOST=https://api.clear.ml\n",
      "env: CLEARML_FILES_HOST=https://files.clear.ml\n"
     ]
    }
   ],
   "source": [
    "import os\n",
    "from dotenv import load_dotenv\n",
    "\n",
    "#%pip install -q clearml nbconvert\n",
    "\n",
    "%env CLEARML_WEB_HOST=https://app.clear.ml\n",
    "%env CLEARML_API_HOST=https://api.clear.ml\n",
    "%env CLEARML_FILES_HOST=https://files.clear.ml\n",
    "\n",
    "load_dotenv()\n",
    "\n",
    "CLEARML_API_ACCESS_KEY=os.getenv(\"CLEARML_API_ACCESS_KEY\")\n",
    "CLEARML_API_SECRET_KEY=os.getenv(\"CLEARML_API_SECRET_KEY\")\n",
    "\n",
    "if CLEARML_API_ACCESS_KEY is None:\n",
    "    raise KeyError(\"CLEARML_API_ACCESS_KEY\")"
   ]
  },
  {
   "cell_type": "code",
   "execution_count": 2,
   "metadata": {},
   "outputs": [
    {
     "name": "stdout",
     "output_type": "stream",
     "text": [
      "WARNING:tensorflow:From c:\\TFS\\SummerSchool\\240603-mlops-workshop\\venv\\Lib\\site-packages\\keras\\src\\losses.py:2976: The name tf.losses.sparse_softmax_cross_entropy is deprecated. Please use tf.compat.v1.losses.sparse_softmax_cross_entropy instead.\n",
      "\n"
     ]
    },
    {
     "name": "stderr",
     "output_type": "stream",
     "text": [
      "Retrying (Retry(total=239, connect=240, read=240, redirect=240, status=240)) after connection broken by 'SSLError(SSLCertVerificationError(1, '[SSL: CERTIFICATE_VERIFY_FAILED] certificate verify failed: self-signed certificate in certificate chain (_ssl.c:1006)'))': /auth.login\n",
      "Retrying (Retry(total=238, connect=240, read=240, redirect=240, status=240)) after connection broken by 'SSLError(SSLCertVerificationError(1, '[SSL: CERTIFICATE_VERIFY_FAILED] certificate verify failed: self-signed certificate in certificate chain (_ssl.c:1006)'))': /auth.login\n",
      "Retrying (Retry(total=237, connect=240, read=240, redirect=240, status=240)) after connection broken by 'SSLError(SSLCertVerificationError(1, '[SSL: CERTIFICATE_VERIFY_FAILED] certificate verify failed: self-signed certificate in certificate chain (_ssl.c:1006)'))': /auth.login\n",
      "Retrying (Retry(total=236, connect=240, read=240, redirect=240, status=240)) after connection broken by 'SSLError(SSLCertVerificationError(1, '[SSL: CERTIFICATE_VERIFY_FAILED] certificate verify failed: self-signed certificate in certificate chain (_ssl.c:1006)'))': /auth.login\n",
      "Retrying (Retry(total=235, connect=240, read=240, redirect=240, status=240)) after connection broken by 'SSLError(SSLCertVerificationError(1, '[SSL: CERTIFICATE_VERIFY_FAILED] certificate verify failed: self-signed certificate in certificate chain (_ssl.c:1006)'))': /auth.login\n",
      "Retrying (Retry(total=234, connect=240, read=240, redirect=240, status=240)) after connection broken by 'SSLError(SSLCertVerificationError(1, '[SSL: CERTIFICATE_VERIFY_FAILED] certificate verify failed: self-signed certificate in certificate chain (_ssl.c:1006)'))': /auth.login\n",
      "Retrying (Retry(total=233, connect=240, read=240, redirect=240, status=240)) after connection broken by 'SSLError(SSLCertVerificationError(1, '[SSL: CERTIFICATE_VERIFY_FAILED] certificate verify failed: self-signed certificate in certificate chain (_ssl.c:1006)'))': /auth.login\n"
     ]
    },
    {
     "name": "stdout",
     "output_type": "stream",
     "text": [
      "ClearML Task: created new task id=d538e5ede1794399a105b73093cce39e\n",
      "2024-06-04 09:10:52,838 - clearml.Task - INFO - Storing jupyter notebook directly as code\n",
      "ClearML results page: https://app.clear.ml/projects/156920b4140a41ed894eba6f84846cb0/experiments/d538e5ede1794399a105b73093cce39e/output/log\n",
      "Class names: ['bird', 'cat', 'deer', 'dog']\n",
      "Number of train images: 16000\n",
      "Number of test images: 4000\n",
      "WARNING:tensorflow:From c:\\TFS\\SummerSchool\\240603-mlops-workshop\\venv\\Lib\\site-packages\\keras\\src\\backend.py:873: The name tf.get_default_graph is deprecated. Please use tf.compat.v1.get_default_graph instead.\n",
      "\n",
      "WARNING:tensorflow:From c:\\TFS\\SummerSchool\\240603-mlops-workshop\\venv\\Lib\\site-packages\\keras\\src\\layers\\pooling\\max_pooling2d.py:161: The name tf.nn.max_pool is deprecated. Please use tf.nn.max_pool2d instead.\n",
      "\n",
      "Epoch 1/10\n",
      "WARNING:tensorflow:From c:\\TFS\\SummerSchool\\240603-mlops-workshop\\venv\\Lib\\site-packages\\keras\\src\\utils\\tf_utils.py:492: The name tf.ragged.RaggedTensorValue is deprecated. Please use tf.compat.v1.ragged.RaggedTensorValue instead.\n",
      "\n",
      "WARNING:tensorflow:From c:\\TFS\\SummerSchool\\240603-mlops-workshop\\venv\\Lib\\site-packages\\keras\\src\\engine\\base_layer_utils.py:384: The name tf.executing_eagerly_outside_functions is deprecated. Please use tf.compat.v1.executing_eagerly_outside_functions instead.\n",
      "\n",
      "500/500 [==============================] - 5s 8ms/step - loss: 1.2818 - accuracy: 0.3859 - val_loss: 1.1681 - val_accuracy: 0.4582\n",
      "Epoch 2/10\n",
      "500/500 [==============================] - 4s 8ms/step - loss: 1.0840 - accuracy: 0.5274 - val_loss: 1.0159 - val_accuracy: 0.5600\n",
      "Epoch 3/10\n",
      "500/500 [==============================] - 4s 8ms/step - loss: 0.9696 - accuracy: 0.5921 - val_loss: 1.0078 - val_accuracy: 0.5702\n",
      "Epoch 4/10\n",
      "500/500 [==============================] - 4s 8ms/step - loss: 0.8867 - accuracy: 0.6354 - val_loss: 0.9216 - val_accuracy: 0.6200\n",
      "Epoch 5/10\n",
      "500/500 [==============================] - 4s 8ms/step - loss: 0.8241 - accuracy: 0.6679 - val_loss: 0.8781 - val_accuracy: 0.6363\n",
      "Epoch 6/10\n",
      "500/500 [==============================] - 4s 8ms/step - loss: 0.7609 - accuracy: 0.7017 - val_loss: 0.8382 - val_accuracy: 0.6543\n",
      "Epoch 7/10\n",
      "500/500 [==============================] - 4s 8ms/step - loss: 0.7087 - accuracy: 0.7186 - val_loss: 0.8320 - val_accuracy: 0.6678\n",
      "Epoch 8/10\n",
      "500/500 [==============================] - 6s 11ms/step - loss: 0.6669 - accuracy: 0.7395 - val_loss: 0.8063 - val_accuracy: 0.6740\n",
      "Epoch 9/10\n",
      "500/500 [==============================] - 7s 13ms/step - loss: 0.6276 - accuracy: 0.7547 - val_loss: 0.8151 - val_accuracy: 0.6810\n",
      "Epoch 10/10\n",
      "500/500 [==============================] - 8s 17ms/step - loss: 0.5751 - accuracy: 0.7801 - val_loss: 0.8564 - val_accuracy: 0.6678\n"
     ]
    }
   ],
   "source": [
    "import tensorflow.keras as keras\n",
    "from tensorflow.keras import layers\n",
    "import matplotlib.pyplot as plt\n",
    "import numpy as np\n",
    "from clearml import Task, Logger\n",
    "\n",
    "task = Task.init(project_name='vives-mlops-workshop', task_name='exercise4-iter10', output_uri=True)\n",
    "\n",
    "# hyperparameters\n",
    "config = {\n",
    "    \"conv1\": 64,\n",
    "    \"conv2\": 64,\n",
    "    \"conv3\": 64,\n",
    "    \"dense1\": 16,\n",
    "}\n",
    "task.connect(config)\n",
    "\n",
    "# ---\n",
    "\n",
    "# download the dataset\n",
    "(images, labels), _ = keras.datasets.cifar10.load_data()\n",
    "\n",
    "# there are 10 classes of images\n",
    "all_classes = ['airplane', 'automobile', 'bird', 'cat', 'deer',\n",
    "               'dog', 'frog', 'horse', 'ship', 'truck']\n",
    "\n",
    "# choose four classes (feel free to change this!)\n",
    "class_names = [\"bird\", \"cat\", \"deer\", \"dog\"]\n",
    "print(\"Class names:\", class_names)\n",
    "\n",
    "# only keep images of these classes\n",
    "class_indexes = [all_classes.index(c) for c in class_names]\n",
    "to_keep = np.array([l in class_indexes for l in labels])\n",
    "images = images[to_keep]\n",
    "labels = labels[to_keep]\n",
    "\n",
    "# change indexes from 10 to 2 classes\n",
    "labels = np.array([class_indexes.index(l) for l in labels])\n",
    "\n",
    "# normalize pixels between 0 and 1\n",
    "images = images / 255.0\n",
    "\n",
    "# split into train and test set\n",
    "split = round(len(images) * 0.8)\n",
    "train_images = images[:split]\n",
    "train_labels = labels[:split]\n",
    "test_images = images[split:]\n",
    "test_labels = labels[split:]\n",
    "print(\"Number of train images:\", len(train_images))\n",
    "print(\"Number of test images:\", len(test_images))\n",
    "\n",
    "# ---\n",
    "\n",
    "# create neural network\n",
    "model = keras.models.Sequential()\n",
    "model.add(keras.Input(shape=(32, 32, 3)))\n",
    "\n",
    "# convolutional layers\n",
    "model.add(layers.Conv2D(config[\"conv1\"], (3, 3), activation=\"relu\"))\n",
    "model.add(layers.MaxPooling2D((2, 2)))\n",
    "model.add(layers.Conv2D(config[\"conv2\"], (3, 3), activation=\"relu\"))\n",
    "model.add(layers.MaxPooling2D((2, 2)))\n",
    "model.add(layers.Conv2D(config[\"conv3\"], (3, 3), activation=\"relu\"))\n",
    "\n",
    "# add dense layers\n",
    "model.add(layers.Flatten())\n",
    "model.add(layers.Dense(config[\"dense1\"], activation=\"relu\"))\n",
    "model.add(layers.Dense(4, activation=\"softmax\"))\n",
    "\n",
    "# ---\n",
    "\n",
    "# compile and train the model\n",
    "model.compile(optimizer=keras.optimizers.Adam(),\n",
    "              loss=keras.losses.SparseCategoricalCrossentropy(),\n",
    "              metrics=['accuracy'])\n",
    "\n",
    "history = model.fit(train_images, train_labels, epochs=10,\n",
    "                    validation_data=(test_images, test_labels))\n",
    "\n",
    "# ---\n",
    "\n",
    "# report accuracy to ClearML\n",
    "accuracy = history.history['accuracy']\n",
    "val_accuracy = history.history['val_accuracy']\n",
    "logger = Logger.current_logger()\n",
    "\n",
    "for i in range(len(accuracy)):\n",
    "    logger.report_scalar(\"training\", \"accuracy\", accuracy[i], iteration=i)\n",
    "    logger.report_scalar(\"training\", \"val_accuracy\", val_accuracy[i], iteration=i)\n",
    "\n",
    "# save model to disk\n",
    "model.save(\"exercise4.keras\")\n",
    "\n",
    "# close ClearML task\n",
    "task.close()"
   ]
  }
 ],
 "metadata": {
  "accelerator": "GPU",
  "colab": {
   "collapsed_sections": [],
   "name": "cnn.ipynb",
   "toc_visible": true
  },
  "kernelspec": {
   "display_name": "Python 3",
   "name": "python3"
  },
  "language_info": {
   "codemirror_mode": {
    "name": "ipython",
    "version": 3
   },
   "file_extension": ".py",
   "mimetype": "text/x-python",
   "name": "python",
   "nbconvert_exporter": "python",
   "pygments_lexer": "ipython3",
   "version": "3.11.5"
  }
 },
 "nbformat": 4,
 "nbformat_minor": 0
}
