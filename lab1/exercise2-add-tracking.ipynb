{
 "cells": [
  {
   "cell_type": "markdown",
   "metadata": {
    "id": "x4HI2mpwlrcn"
   },
   "source": [
    "# Lab 1: Experiment Tracking\n",
    "## Exercise 2: Add ClearML tracking\n",
    "\n",
    "Go to the ClearML website and make an account. Add experiment tracking to the following code.\n",
    "\n",
    "Following these instructions for \"Jupyter Notebook\": https://clear.ml/docs/latest/docs/getting_started/ds/ds_first_steps#jupyter-notebook\n",
    "\n",
    "Explore the ClearML Project & Experiment in the web UI. Go to your project, right-click the experiment, click \"Details\". Look at the tabs ARTIFACTS (notebook preview), CONSOLE and SCALARS.\n",
    "\n",
    "Note that for Jupyter Notebooks you need to manually close the task at the end. `task.close()` Otherwise your experiment will stay \"Running\" in ClearML web UI."
   ]
  },
  {
   "cell_type": "code",
   "execution_count": 3,
   "metadata": {},
   "outputs": [
    {
     "name": "stdout",
     "output_type": "stream",
     "text": [
      "env: CLEARML_WEB_HOST=https://app.clear.ml\n",
      "env: CLEARML_API_HOST=https://api.clear.ml\n",
      "env: CLEARML_FILES_HOST=https://files.clear.ml\n"
     ]
    }
   ],
   "source": [
    "import os\n",
    "from dotenv import load_dotenv\n",
    "\n",
    "#%pip install -q clearml nbconvert\n",
    "\n",
    "%env CLEARML_WEB_HOST=https://app.clear.ml\n",
    "%env CLEARML_API_HOST=https://api.clear.ml\n",
    "%env CLEARML_FILES_HOST=https://files.clear.ml\n",
    "\n",
    "load_dotenv()\n",
    "\n",
    "CLEARML_API_ACCESS_KEY=os.getenv(\"CLEARML_API_ACCESS_KEY\")\n",
    "CLEARML_API_SECRET_KEY=os.getenv(\"CLEARML_API_SECRET_KEY\")\n",
    "\n",
    "if CLEARML_API_ACCESS_KEY is None:\n",
    "    raise KeyError(\"CLEARML_API_ACCESS_KEY\")"
   ]
  },
  {
   "cell_type": "code",
   "execution_count": 4,
   "metadata": {},
   "outputs": [
    {
     "name": "stdout",
     "output_type": "stream",
     "text": [
      "ClearML Task: created new task id=ce6de5cc80c947f6b19fc08ef0207955\n",
      "WARNING:tensorflow:From c:\\TFS\\SummerSchool\\240603-mlops-workshop\\venv\\Lib\\site-packages\\clearml\\utilities\\seed.py:57: The name tf.set_random_seed is deprecated. Please use tf.compat.v1.set_random_seed instead.\n",
      "\n",
      "WARNING:tensorflow:From c:\\TFS\\SummerSchool\\240603-mlops-workshop\\venv\\Lib\\site-packages\\clearml\\utilities\\seed.py:65: The name tf.random.set_random_seed is deprecated. Please use tf.compat.v1.random.set_random_seed instead.\n",
      "\n",
      "ClearML results page: https://app.clear.ml/projects/156920b4140a41ed894eba6f84846cb0/experiments/ce6de5cc80c947f6b19fc08ef0207955/output/log\n",
      "Class names: ['bird', 'cat', 'deer', 'dog']\n",
      "Number of train images: 16000\n",
      "Number of test images: 4000\n",
      "Epoch 1/10\n",
      "\u001b[1m500/500\u001b[0m \u001b[32m━━━━━━━━━━━━━━━━━━━━\u001b[0m\u001b[37m\u001b[0m \u001b[1m3s\u001b[0m 3ms/step - accuracy: 0.3024 - loss: 1.3541 - val_accuracy: 0.3950 - val_loss: 1.2494\n",
      "Epoch 2/10\n",
      "\u001b[1m500/500\u001b[0m \u001b[32m━━━━━━━━━━━━━━━━━━━━\u001b[0m\u001b[37m\u001b[0m \u001b[1m1s\u001b[0m 3ms/step - accuracy: 0.4352 - loss: 1.2030 - val_accuracy: 0.4525 - val_loss: 1.1757\n",
      "Epoch 3/10\n",
      "\u001b[1m500/500\u001b[0m \u001b[32m━━━━━━━━━━━━━━━━━━━━\u001b[0m\u001b[37m\u001b[0m \u001b[1m1s\u001b[0m 3ms/step - accuracy: 0.4780 - loss: 1.1406 - val_accuracy: 0.4745 - val_loss: 1.1434\n",
      "Epoch 4/10\n",
      "\u001b[1m500/500\u001b[0m \u001b[32m━━━━━━━━━━━━━━━━━━━━\u001b[0m\u001b[37m\u001b[0m \u001b[1m1s\u001b[0m 2ms/step - accuracy: 0.5030 - loss: 1.1057 - val_accuracy: 0.4910 - val_loss: 1.1204\n",
      "Epoch 5/10\n",
      "\u001b[1m500/500\u001b[0m \u001b[32m━━━━━━━━━━━━━━━━━━━━\u001b[0m\u001b[37m\u001b[0m \u001b[1m1s\u001b[0m 3ms/step - accuracy: 0.5190 - loss: 1.0821 - val_accuracy: 0.4997 - val_loss: 1.1027\n",
      "Epoch 6/10\n",
      "\u001b[1m500/500\u001b[0m \u001b[32m━━━━━━━━━━━━━━━━━━━━\u001b[0m\u001b[37m\u001b[0m \u001b[1m2s\u001b[0m 3ms/step - accuracy: 0.5339 - loss: 1.0633 - val_accuracy: 0.5015 - val_loss: 1.0972\n",
      "Epoch 7/10\n",
      "\u001b[1m500/500\u001b[0m \u001b[32m━━━━━━━━━━━━━━━━━━━━\u001b[0m\u001b[37m\u001b[0m \u001b[1m1s\u001b[0m 3ms/step - accuracy: 0.5439 - loss: 1.0501 - val_accuracy: 0.5110 - val_loss: 1.0859\n",
      "Epoch 8/10\n",
      "\u001b[1m500/500\u001b[0m \u001b[32m━━━━━━━━━━━━━━━━━━━━\u001b[0m\u001b[37m\u001b[0m \u001b[1m1s\u001b[0m 3ms/step - accuracy: 0.5499 - loss: 1.0379 - val_accuracy: 0.5210 - val_loss: 1.0761\n",
      "Epoch 9/10\n",
      "\u001b[1m500/500\u001b[0m \u001b[32m━━━━━━━━━━━━━━━━━━━━\u001b[0m\u001b[37m\u001b[0m \u001b[1m1s\u001b[0m 3ms/step - accuracy: 0.5556 - loss: 1.0285 - val_accuracy: 0.5255 - val_loss: 1.0714\n",
      "Epoch 10/10\n",
      "\u001b[1m500/500\u001b[0m \u001b[32m━━━━━━━━━━━━━━━━━━━━\u001b[0m\u001b[37m\u001b[0m \u001b[1m1s\u001b[0m 3ms/step - accuracy: 0.5625 - loss: 1.0202 - val_accuracy: 0.5272 - val_loss: 1.0638\n"
     ]
    }
   ],
   "source": [
    "import tensorflow.keras as keras\n",
    "from tensorflow.keras import layers\n",
    "import numpy as np\n",
    "from clearml import Task, Logger\n",
    "from clearml import Task\n",
    "\n",
    "# TODO create ClearML Task here\n",
    "task = Task.init(project_name='vives-mlops-workshop', task_name='exercise2')\n",
    "\n",
    "# download the dataset\n",
    "(images, labels), _ = keras.datasets.cifar10.load_data()\n",
    "\n",
    "# there are 10 classes of images\n",
    "all_classes = ['airplane', 'automobile', 'bird', 'cat', 'deer',\n",
    "               'dog', 'frog', 'horse', 'ship', 'truck']\n",
    "\n",
    "# choose four classes (feel free to change this!)\n",
    "class_names = [\"bird\", \"cat\", \"deer\", \"dog\"]\n",
    "print(\"Class names:\", class_names)\n",
    "\n",
    "# only keep images of these classes\n",
    "class_indexes = [all_classes.index(c) for c in class_names]\n",
    "to_keep = np.array([l in class_indexes for l in labels])\n",
    "images = images[to_keep]\n",
    "labels = labels[to_keep]\n",
    "\n",
    "# change indexes from 10 to 2 classes\n",
    "labels = np.array([class_indexes.index(l) for l in labels])\n",
    "\n",
    "# normalize pixels between 0 and 1\n",
    "images = images / 255.0\n",
    "\n",
    "# split into train and test set\n",
    "split = round(len(images) * 0.8)\n",
    "train_images = images[:split]\n",
    "train_labels = labels[:split]\n",
    "test_images = images[split:]\n",
    "test_labels = labels[split:]\n",
    "print(\"Number of train images:\", len(train_images))\n",
    "print(\"Number of test images:\", len(test_images))\n",
    "\n",
    "# ---\n",
    "\n",
    "# create neural network\n",
    "model = keras.models.Sequential()\n",
    "model.add(keras.Input(shape=(32, 32, 3)))\n",
    "\n",
    "# convolutional layers\n",
    "model.add(layers.Conv2D(4, (3, 3), activation=\"relu\"))\n",
    "model.add(layers.MaxPooling2D((2, 2)))\n",
    "model.add(layers.Conv2D(8, (3, 3), activation=\"relu\"))\n",
    "model.add(layers.MaxPooling2D((2, 2)))\n",
    "model.add(layers.Conv2D(8, (3, 3), activation=\"relu\"))\n",
    "\n",
    "# add dense layers\n",
    "model.add(layers.Flatten())\n",
    "model.add(layers.Dense(16, activation=\"relu\"))\n",
    "model.add(layers.Dense(4, activation=\"softmax\"))\n",
    "\n",
    "# ---\n",
    "\n",
    "# compile and train the model\n",
    "model.compile(optimizer=keras.optimizers.Adam(),\n",
    "              loss=keras.losses.SparseCategoricalCrossentropy(),\n",
    "              metrics=['accuracy'])\n",
    "\n",
    "history = model.fit(train_images, train_labels, epochs=10,\n",
    "                    validation_data=(test_images, test_labels))\n",
    "\n",
    "# ---\n",
    "\n",
    "# report accuracy to ClearML\n",
    "accuracy = history.history['accuracy']\n",
    "val_accuracy = history.history['val_accuracy']\n",
    "logger = Logger.current_logger()\n",
    "\n",
    "for i in range(len(accuracy)):\n",
    "    logger.report_scalar(\"training\", \"accuracy\", accuracy[i], iteration=i)\n",
    "    logger.report_scalar(\"training\", \"val_accuracy\", val_accuracy[i], iteration=i)\n",
    "\n",
    "# close ClearML task\n",
    "task.close()"
   ]
  }
 ],
 "metadata": {
  "accelerator": "GPU",
  "colab": {
   "collapsed_sections": [],
   "name": "cnn.ipynb",
   "toc_visible": true
  },
  "kernelspec": {
   "display_name": "Python 3",
   "name": "python3"
  },
  "language_info": {
   "codemirror_mode": {
    "name": "ipython",
    "version": 3
   },
   "file_extension": ".py",
   "mimetype": "text/x-python",
   "name": "python",
   "nbconvert_exporter": "python",
   "pygments_lexer": "ipython3",
   "version": "3.11.5"
  }
 },
 "nbformat": 4,
 "nbformat_minor": 0
}
