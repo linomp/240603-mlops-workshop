{
 "cells": [
  {
   "cell_type": "code",
   "execution_count": null,
   "metadata": {},
   "outputs": [],
   "source": [
    "import numpy as np\n",
    "from PIL import Image\n",
    "import tensorflow as tf\n",
    "\n",
    "my_model = tf.keras.models.load_model('exercise4.keras')\n",
    "\n",
    "path = \"./bird.jpeg\"\n",
    "img = np.array(Image.open(path))\n",
    "\n",
    "img.shape"
   ]
  },
  {
   "cell_type": "code",
   "execution_count": null,
   "metadata": {},
   "outputs": [],
   "source": [
    "\n",
    "prediction = my_model.predict(np.array([img]))\n",
    "class_names = [\"bird\", \"cat\", \"deer\", \"dog\"]\n",
    "predicted_class = class_names[np.argmax(prediction)]\n",
    "print(predicted_class)\n",
    "prediction[0].tolist()\n"
   ]
  },
  {
   "cell_type": "code",
   "execution_count": null,
   "metadata": {},
   "outputs": [],
   "source": [
    "import gradio as gr\n",
    "import numpy as np\n",
    "import tensorflow as tf\n",
    "\n",
    "my_model = tf.keras.models.load_model('exercise4.keras')\n",
    "\n",
    "def image_classifier(inp):\n",
    "    prediction = my_model.predict(np.array([inp]))[0].tolist()\n",
    "    class_names = [\"bird\", \"cat\", \"deer\", \"dog\"]\n",
    "    print({ k:v for (k,v) in zip(class_names, prediction)} )\n",
    "    return { k:v for (k,v) in zip(class_names, prediction)} \n",
    "\n",
    "\n",
    "demo = gr.Interface(fn=image_classifier, inputs=\"image\", outputs=\"label\")\n",
    "demo.launch()"
   ]
  }
 ],
 "metadata": {
  "kernelspec": {
   "display_name": "venv",
   "language": "python",
   "name": "python3"
  },
  "language_info": {
   "codemirror_mode": {
    "name": "ipython",
    "version": 3
   },
   "file_extension": ".py",
   "mimetype": "text/x-python",
   "name": "python",
   "nbconvert_exporter": "python",
   "pygments_lexer": "ipython3",
   "version": "3.11.5"
  }
 },
 "nbformat": 4,
 "nbformat_minor": 2
}
