{
 "cells": [
  {
   "cell_type": "markdown",
   "metadata": {
    "id": "x4HI2mpwlrcn"
   },
   "source": [
    "# Lab 2: Data Engineering\n",
    "## Exercise 2: Add documentation to the dataset\n",
    "\n",
    "To improve our dataset, we should add some documentation to it. This is done through the `Logger`, just like we did for experiments.\n",
    "\n",
    "Use `Dataset.get_logger()` to get the logger.\n",
    "\n",
    "- Add a few metrics, like the number of images.\n",
    "- Add some example images with their labels.\n",
    "\n",
    "https://clear.ml/docs/latest/docs/references/sdk/dataset#get_logger\n",
    "https://clear.ml/docs/latest/docs/references/sdk/logger/\n",
    "\n",
    "Afterward, go to the ClearML website, click on DATASETS on the left side, and find the dataset you just created.\n",
    "\n",
    "Now go to the ClearML website, to the dataset you just created. In the VERSION INFO in the right, click on \"Task information\" at the bottom. Here you can find the logging that we added."
   ]
  },
  {
   "cell_type": "code",
   "execution_count": 1,
   "metadata": {},
   "outputs": [
    {
     "name": "stdout",
     "output_type": "stream",
     "text": [
      "env: CLEARML_WEB_HOST=https://app.clear.ml\n",
      "env: CLEARML_API_HOST=https://api.clear.ml\n",
      "env: CLEARML_FILES_HOST=https://files.clear.ml\n"
     ]
    }
   ],
   "source": [
    "import os\n",
    "from dotenv import load_dotenv\n",
    "\n",
    "#%pip install -q clearml nbconvert\n",
    "\n",
    "%env CLEARML_WEB_HOST=https://app.clear.ml\n",
    "%env CLEARML_API_HOST=https://api.clear.ml\n",
    "%env CLEARML_FILES_HOST=https://files.clear.ml\n",
    "\n",
    "load_dotenv()\n",
    "\n",
    "CLEARML_API_ACCESS_KEY=os.getenv(\"CLEARML_API_ACCESS_KEY\")\n",
    "CLEARML_API_SECRET_KEY=os.getenv(\"CLEARML_API_SECRET_KEY\")\n",
    "\n",
    "if CLEARML_API_ACCESS_KEY is None:\n",
    "    raise KeyError(\"CLEARML_API_ACCESS_KEY\")"
   ]
  },
  {
   "cell_type": "code",
   "execution_count": 4,
   "metadata": {},
   "outputs": [
    {
     "name": "stdout",
     "output_type": "stream",
     "text": [
      "Class names: ['bird', 'cat', 'deer', 'dog']\n",
      "Number of train images: 8\n",
      "Number of test images: 2\n",
      "ClearML results page: https://app.clear.ml/projects/c91b253598c347cab986e3aa22fa3207/experiments/8900a988777844b680f9362bf2532314/output/log\n",
      "ClearML dataset page: https://app.clear.ml/datasets/simple/c91b253598c347cab986e3aa22fa3207/experiments/8900a988777844b680f9362bf2532314\n",
      "Uploading dataset changes (4 files compressed to 83.14 KiB) to https://files.clear.ml\n",
      "File compression and upload completed: total size 83.14 KiB, 1 chunk(s) stored (average size 83.14 KiB)\n"
     ]
    },
    {
     "data": {
      "text/plain": [
       "True"
      ]
     },
     "execution_count": 4,
     "metadata": {},
     "output_type": "execute_result"
    }
   ],
   "source": [
    "import tensorflow.keras as keras\n",
    "import matplotlib.pyplot as plt\n",
    "import numpy as np\n",
    "from clearml import Dataset\n",
    "\n",
    "# download the dataset\n",
    "(images, labels), _ = keras.datasets.cifar10.load_data()\n",
    "\n",
    "# there are 10 classes of images\n",
    "all_classes = ['airplane', 'automobile', 'bird', 'cat', 'deer',\n",
    "               'dog', 'frog', 'horse', 'ship', 'truck']\n",
    "\n",
    "# choose four classes (feel free to change this!)\n",
    "class_names = [\"bird\", \"cat\", \"deer\", \"dog\"]\n",
    "print(\"Class names:\", class_names)\n",
    "\n",
    "# only keep images of these classes\n",
    "class_indexes = [all_classes.index(c) for c in class_names]\n",
    "to_keep = np.array([l in class_indexes for l in labels])\n",
    "images = images[to_keep]\n",
    "labels = labels[to_keep]\n",
    "\n",
    "# change indexes from 10 to 2 classes\n",
    "labels = np.array([class_indexes.index(l) for l in labels])\n",
    "\n",
    "# normalize pixels between 0 and 1\n",
    "images = images / 255.0\n",
    "\n",
    "# ---\n",
    "# TMP Only store 10 images/labels, because we want fast upload.\n",
    "# This way we can learn the dataset SDK without waiting too long.\n",
    "images = images[:10]\n",
    "labels = labels[:10]\n",
    "# ---\n",
    "\n",
    "# split into train and test set\n",
    "split = round(len(images) * 0.8)\n",
    "train_images = images[:split]\n",
    "train_labels = labels[:split]\n",
    "test_images = images[split:]\n",
    "test_labels = labels[split:]\n",
    "print(\"Number of train images:\", len(train_images))\n",
    "print(\"Number of test images:\", len(test_images))\n",
    "\n",
    "# save numpy arrays to disk\n",
    "np.save(\"train_images.npy\", train_images)\n",
    "np.save(\"train_labels.npy\", train_labels)\n",
    "np.save(\"test_images.npy\", test_images)\n",
    "np.save(\"test_labels.npy\", test_labels)\n",
    "\n",
    "# create ClearML dataset\n",
    "dataset = Dataset.create(dataset_name=\"my-dataset\", dataset_project=\"vives-mlops-workshop\")\n",
    "dataset.add_files(path=\"train_images.npy\")\n",
    "dataset.add_files(path=\"train_labels.npy\")\n",
    "dataset.add_files(path=\"test_images.npy\")\n",
    "dataset.add_files(path=\"test_labels.npy\")\n",
    "\n",
    "# add documentation\n",
    "logger = dataset.get_logger()\n",
    "\n",
    "# TODO add a few metrics, like the number of images\n",
    "logger.report_single_value(\"Number of training images\", train_images.size) # train\n",
    "logger.report_single_value(\"Number of testing images\", test_images.size) # test\n",
    "\n",
    "# TODO add some example images with their label\n",
    "for i in range(10):\n",
    "    the_class = class_names[labels[i]]\n",
    "    logger.report_image(title=\"Labeled examples\", series=the_class, image=images[i])\n",
    "\n",
    "dataset.upload()\n",
    "dataset.finalize()"
   ]
  }
 ],
 "metadata": {
  "accelerator": "GPU",
  "colab": {
   "collapsed_sections": [],
   "name": "cnn.ipynb",
   "toc_visible": true
  },
  "kernelspec": {
   "display_name": "Python 3",
   "name": "python3"
  },
  "language_info": {
   "codemirror_mode": {
    "name": "ipython",
    "version": 3
   },
   "file_extension": ".py",
   "mimetype": "text/x-python",
   "name": "python",
   "nbconvert_exporter": "python",
   "pygments_lexer": "ipython3",
   "version": "3.11.5"
  }
 },
 "nbformat": 4,
 "nbformat_minor": 0
}
