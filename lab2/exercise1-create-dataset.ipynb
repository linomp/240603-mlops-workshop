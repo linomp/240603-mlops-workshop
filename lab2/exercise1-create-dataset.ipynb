{
 "cells": [
  {
   "cell_type": "markdown",
   "metadata": {
    "id": "x4HI2mpwlrcn"
   },
   "source": [
    "# Lab 2: Data Engineering\n",
    "## Exercise 1: Create a dataset\n",
    "\n",
    "Until now, we have used the CIFAR-10 dataset from Keras. Every script started by preprocessing this dataset into a subset with the four classes that we chose. Because CIFAR-10 is quite small, this doesn't take much time, so it didn't bother us.\n",
    "\n",
    "Imagine you have a gigantic dataset. This is quite normal when you are doing machine learning in the real world. Preprocessing it takes a long time, so we really don't want to do it for every training experiment. What's the solution? ClearML Datasets!\n",
    "\n",
    "Let's create a dataset in ClearML for our subset of CIFAR-10. This is done by running a script to preprocess the data, write it to the file system, and then upload it to ClearML. We need to write data to files first because ClearML datasets are always created from files. You can write any Python data to files using `pickle.dump()`, or when you have NumPy arrays, use `numpy.save()`.\n",
    "\n",
    "To create a ClearML dataset use `Dataset.create()`:\n",
    "\n",
    "https://clear.ml/docs/latest/docs/references/sdk/dataset#datasetcreate \\\n",
    "https://clear.ml/docs/latest/docs/clearml_data/data_management_examples/data_man_python\n",
    "\n",
    "Afterward, go to the ClearML website, click on DATASETS on the left side, and find the dataset you just created.\n",
    "\n",
    "We won't do this now, but later we can use [Dataset.get()](https://clear.ml/docs/latest/docs/references/sdk/dataset/#datasetget) to download our new dataset before training."
   ]
  },
  {
   "cell_type": "code",
   "execution_count": 10,
   "metadata": {},
   "outputs": [
    {
     "name": "stdout",
     "output_type": "stream",
     "text": [
      "env: CLEARML_WEB_HOST=https://app.clear.ml\n",
      "env: CLEARML_API_HOST=https://api.clear.ml\n",
      "env: CLEARML_FILES_HOST=https://files.clear.ml\n"
     ]
    }
   ],
   "source": [
    "import os\n",
    "from dotenv import load_dotenv\n",
    "\n",
    "#%pip install -q clearml nbconvert\n",
    "\n",
    "%env CLEARML_WEB_HOST=https://app.clear.ml\n",
    "%env CLEARML_API_HOST=https://api.clear.ml\n",
    "%env CLEARML_FILES_HOST=https://files.clear.ml\n",
    "\n",
    "load_dotenv()\n",
    "\n",
    "CLEARML_API_ACCESS_KEY=os.getenv(\"CLEARML_API_ACCESS_KEY\")\n",
    "CLEARML_API_SECRET_KEY=os.getenv(\"CLEARML_API_SECRET_KEY\")\n",
    "\n",
    "if CLEARML_API_ACCESS_KEY is None:\n",
    "    raise KeyError(\"CLEARML_API_ACCESS_KEY\")"
   ]
  },
  {
   "cell_type": "code",
   "execution_count": 11,
   "metadata": {},
   "outputs": [
    {
     "name": "stdout",
     "output_type": "stream",
     "text": [
      "Class names: ['bird', 'cat', 'deer', 'dog']\n",
      "Number of train images: 8\n",
      "Number of test images: 2\n",
      "ClearML results page: https://app.clear.ml/projects/c91b253598c347cab986e3aa22fa3207/experiments/deb4e886c1f34a29ad00559462aec69a/output/log\n",
      "ClearML dataset page: https://app.clear.ml/datasets/simple/c91b253598c347cab986e3aa22fa3207/experiments/deb4e886c1f34a29ad00559462aec69a\n",
      "Uploading dataset changes (4 files compressed to 83.14 KiB) to https://files.clear.ml\n",
      "File compression and upload completed: total size 83.14 KiB, 1 chunk(s) stored (average size 83.14 KiB)\n"
     ]
    },
    {
     "data": {
      "text/plain": [
       "True"
      ]
     },
     "execution_count": 11,
     "metadata": {},
     "output_type": "execute_result"
    }
   ],
   "source": [
    "import tensorflow.keras as keras\n",
    "import matplotlib.pyplot as plt\n",
    "import numpy as np\n",
    "from clearml import Dataset\n",
    "\n",
    "# download the dataset\n",
    "(images, labels), _ = keras.datasets.cifar10.load_data()\n",
    "\n",
    "# there are 10 classes of images\n",
    "all_classes = ['airplane', 'automobile', 'bird', 'cat', 'deer',\n",
    "               'dog', 'frog', 'horse', 'ship', 'truck']\n",
    "\n",
    "# choose four classes (feel free to change this!)\n",
    "class_names = [\"bird\", \"cat\", \"deer\", \"dog\"]\n",
    "print(\"Class names:\", class_names)\n",
    "\n",
    "# only keep images of these classes\n",
    "class_indexes = [all_classes.index(c) for c in class_names]\n",
    "to_keep = np.array([l in class_indexes for l in labels])\n",
    "images = images[to_keep]\n",
    "labels = labels[to_keep]\n",
    "\n",
    "# change indexes from 10 to 2 classes\n",
    "labels = np.array([class_indexes.index(l) for l in labels])\n",
    "\n",
    "# normalize pixels between 0 and 1\n",
    "images = images / 255.0\n",
    "\n",
    "# ---\n",
    "# TMP Only store 10 images/labels, because we want fast upload.\n",
    "# This way we can learn the dataset SDK without waiting too long.\n",
    "images = images[:10]\n",
    "labels = labels[:10]\n",
    "# ---\n",
    "\n",
    "# split into train and test set\n",
    "split = round(len(images) * 0.8)\n",
    "train_images = images[:split]\n",
    "train_labels = labels[:split]\n",
    "test_images = images[split:]\n",
    "test_labels = labels[split:]\n",
    "print(\"Number of train images:\", len(train_images))\n",
    "print(\"Number of test images:\", len(test_images))\n",
    "\n",
    "# TODO save numpy arrays to disk\n",
    "with open('train_images.npy', 'wb') as f:\n",
    "    np.save(f, train_images)\n",
    "with open('train_labels.npy', 'wb') as f:\n",
    "    np.save(f, train_labels)\n",
    "with open('test_images.npy', 'wb') as f:\n",
    "    np.save(f, test_images)\n",
    "with open('test_labels.npy', 'wb') as f:\n",
    "    np.save(f, test_labels)\n",
    "\n",
    "# TODO create ClearML dataset\n",
    "dataset = Dataset.create(dataset_name=\"my-dataset\", dataset_project=\"vives-mlops-workshop\")\n",
    "dataset.add_files('train_images.npy')\n",
    "dataset.add_files('train_labels.npy')\n",
    "dataset.add_files('test_images.npy')\n",
    "dataset.add_files('test_labels.npy')\n",
    "\n",
    "dataset.upload()\n",
    "dataset.finalize()"
   ]
  }
 ],
 "metadata": {
  "accelerator": "GPU",
  "colab": {
   "collapsed_sections": [],
   "name": "cnn.ipynb",
   "toc_visible": true
  },
  "kernelspec": {
   "display_name": "Python 3",
   "name": "python3"
  },
  "language_info": {
   "codemirror_mode": {
    "name": "ipython",
    "version": 3
   },
   "file_extension": ".py",
   "mimetype": "text/x-python",
   "name": "python",
   "nbconvert_exporter": "python",
   "pygments_lexer": "ipython3",
   "version": "3.11.5"
  }
 },
 "nbformat": 4,
 "nbformat_minor": 0
}
